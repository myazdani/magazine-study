{
 "cells": [
  {
   "cell_type": "code",
   "execution_count": 1,
   "metadata": {
    "collapsed": false
   },
   "outputs": [],
   "source": [
    "import os\n",
    "import util.feature_util as feat\n",
    "import pandas as pd\n",
    "import numpy as np"
   ]
  },
  {
   "cell_type": "code",
   "execution_count": 2,
   "metadata": {
    "collapsed": true
   },
   "outputs": [],
   "source": [
    "src_path = \"../clean_imgs/\""
   ]
  },
  {
   "cell_type": "code",
   "execution_count": 3,
   "metadata": {
    "collapsed": true
   },
   "outputs": [],
   "source": [
    "image_type = \".jpg\", \".jpeg\"\n",
    " \n",
    "image_paths = []  \n",
    "for root, dirs, files in os.walk(src_path):\n",
    "    image_paths.extend([os.path.join(root, f) for f in files if f.endswith(image_type)])"
   ]
  },
  {
   "cell_type": "code",
   "execution_count": 4,
   "metadata": {
    "collapsed": false
   },
   "outputs": [],
   "source": [
    "imgs = feat.DimTransformer(w = 100, h = 100).transform(image_paths)"
   ]
  },
  {
   "cell_type": "code",
   "execution_count": 8,
   "metadata": {
    "collapsed": false
   },
   "outputs": [
    {
     "name": "stdout",
     "output_type": "stream",
     "text": [
      "(624, 180)\n",
      "(624, 256)\n",
      "(624, 256)\n"
     ]
    }
   ],
   "source": [
    "HueHist = feat.HSVHistTransformer(hist_type = \"hue\")\n",
    "SatHist = feat.HSVHistTransformer(hist_type = \"sat\")\n",
    "ValHist = feat.HSVHistTransformer(hist_type = \"val\")\n",
    "hue_hists = HueHist.transform(imgs)\n",
    "sat_hists = SatHist.transform(imgs)\n",
    "val_hists = ValHist.transform(imgs)\n",
    "print hue_hists.shape\n",
    "print sat_hists.shape\n",
    "print val_hists.shape"
   ]
  },
  {
   "cell_type": "code",
   "execution_count": 37,
   "metadata": {
    "collapsed": true
   },
   "outputs": [],
   "source": [
    "def compute_summary_stats(hue_hists, sat_hists, val_hists):\n",
    "    hue_modes = np.argmax(hue_hists, 1)\n",
    "    sat_modes = np.argmax(sat_hists, 1)\n",
    "    val_modes = np.argmax(val_hists, 1)\n",
    "    \n",
    "    hue_std = np.std(hue_hists, 1)\n",
    "    sat_std = np.std(sat_hists, 1)\n",
    "    val_std = np.std(val_hists, 1)\n",
    "    \n",
    "    df = pd.DataFrame({'H.mode': hue_modes, 'S.mode': sat_modes, 'V.mode': val_modes,\n",
    "                      'H.std': hue_std, 'S.std': sat_std, 'V.std': val_std})\n",
    "    return df"
   ]
  },
  {
   "cell_type": "code",
   "execution_count": 48,
   "metadata": {
    "collapsed": true
   },
   "outputs": [],
   "source": [
    "df_img_stats = compute_summary_stats(hue_hists, sat_hists, val_hists)\n",
    "df_img_stats.insert(0, 'img.path', image_paths)"
   ]
  },
  {
   "cell_type": "code",
   "execution_count": 50,
   "metadata": {
    "collapsed": false
   },
   "outputs": [
    {
     "data": {
      "text/html": [
       "<div>\n",
       "<table border=\"1\" class=\"dataframe\">\n",
       "  <thead>\n",
       "    <tr style=\"text-align: right;\">\n",
       "      <th></th>\n",
       "      <th>img.path</th>\n",
       "      <th>H.mode</th>\n",
       "      <th>H.std</th>\n",
       "      <th>S.mode</th>\n",
       "      <th>S.std</th>\n",
       "      <th>V.mode</th>\n",
       "      <th>V.std</th>\n",
       "    </tr>\n",
       "  </thead>\n",
       "  <tbody>\n",
       "    <tr>\n",
       "      <th>0</th>\n",
       "      <td>../clean_imgs/playboy_imgs/Playboy - 1953 - co...</td>\n",
       "      <td>78</td>\n",
       "      <td>0.003735</td>\n",
       "      <td>252</td>\n",
       "      <td>0.010048</td>\n",
       "      <td>251</td>\n",
       "      <td>0.011530</td>\n",
       "    </tr>\n",
       "    <tr>\n",
       "      <th>1</th>\n",
       "      <td>../clean_imgs/playboy_imgs/Playboy - 1954-01 -...</td>\n",
       "      <td>129</td>\n",
       "      <td>0.003346</td>\n",
       "      <td>244</td>\n",
       "      <td>0.003519</td>\n",
       "      <td>249</td>\n",
       "      <td>0.003992</td>\n",
       "    </tr>\n",
       "    <tr>\n",
       "      <th>2</th>\n",
       "      <td>../clean_imgs/playboy_imgs/Playboy - 1954-02 -...</td>\n",
       "      <td>1</td>\n",
       "      <td>0.012050</td>\n",
       "      <td>1</td>\n",
       "      <td>0.007015</td>\n",
       "      <td>1</td>\n",
       "      <td>0.007647</td>\n",
       "    </tr>\n",
       "    <tr>\n",
       "      <th>3</th>\n",
       "      <td>../clean_imgs/playboy_imgs/Playboy - 1954-03 -...</td>\n",
       "      <td>31</td>\n",
       "      <td>0.011850</td>\n",
       "      <td>88</td>\n",
       "      <td>0.010356</td>\n",
       "      <td>184</td>\n",
       "      <td>0.010974</td>\n",
       "    </tr>\n",
       "    <tr>\n",
       "      <th>4</th>\n",
       "      <td>../clean_imgs/playboy_imgs/Playboy - 1954-04 -...</td>\n",
       "      <td>173</td>\n",
       "      <td>0.003383</td>\n",
       "      <td>234</td>\n",
       "      <td>0.004078</td>\n",
       "      <td>231</td>\n",
       "      <td>0.004209</td>\n",
       "    </tr>\n",
       "  </tbody>\n",
       "</table>\n",
       "</div>"
      ],
      "text/plain": [
       "                                            img.path  H.mode     H.std  \\\n",
       "0  ../clean_imgs/playboy_imgs/Playboy - 1953 - co...      78  0.003735   \n",
       "1  ../clean_imgs/playboy_imgs/Playboy - 1954-01 -...     129  0.003346   \n",
       "2  ../clean_imgs/playboy_imgs/Playboy - 1954-02 -...       1  0.012050   \n",
       "3  ../clean_imgs/playboy_imgs/Playboy - 1954-03 -...      31  0.011850   \n",
       "4  ../clean_imgs/playboy_imgs/Playboy - 1954-04 -...     173  0.003383   \n",
       "\n",
       "   S.mode     S.std  V.mode     V.std  \n",
       "0     252  0.010048     251  0.011530  \n",
       "1     244  0.003519     249  0.003992  \n",
       "2       1  0.007015       1  0.007647  \n",
       "3      88  0.010356     184  0.010974  \n",
       "4     234  0.004078     231  0.004209  "
      ]
     },
     "execution_count": 50,
     "metadata": {},
     "output_type": "execute_result"
    }
   ],
   "source": [
    "df_img_stats.head()"
   ]
  },
  {
   "cell_type": "code",
   "execution_count": 51,
   "metadata": {
    "collapsed": true
   },
   "outputs": [],
   "source": [
    "df_img_stats.to_csv(\"../data/image_stats_playboy.csv\", index = False)"
   ]
  },
  {
   "cell_type": "code",
   "execution_count": null,
   "metadata": {
    "collapsed": true
   },
   "outputs": [],
   "source": []
  }
 ],
 "metadata": {
  "kernelspec": {
   "display_name": "Python 2",
   "language": "python",
   "name": "python2"
  },
  "language_info": {
   "codemirror_mode": {
    "name": "ipython",
    "version": 2
   },
   "file_extension": ".py",
   "mimetype": "text/x-python",
   "name": "python",
   "nbconvert_exporter": "python",
   "pygments_lexer": "ipython2",
   "version": "2.7.11"
  }
 },
 "nbformat": 4,
 "nbformat_minor": 0
}
