{
 "cells": [
  {
   "cell_type": "code",
   "execution_count": 21,
   "metadata": {
    "collapsed": false
   },
   "outputs": [],
   "source": [
    "import os\n",
    "import util.feature_util as feat\n",
    "import pandas as pd\n",
    "import numpy as np\n",
    "from scipy.special import entr"
   ]
  },
  {
   "cell_type": "code",
   "execution_count": 2,
   "metadata": {
    "collapsed": true
   },
   "outputs": [],
   "source": [
    "src_path = \"../clean_imgs/\""
   ]
  },
  {
   "cell_type": "code",
   "execution_count": 3,
   "metadata": {
    "collapsed": true
   },
   "outputs": [],
   "source": [
    "image_type = \".jpg\", \".jpeg\"\n",
    " \n",
    "image_paths = []  \n",
    "for root, dirs, files in os.walk(src_path):\n",
    "    image_paths.extend([os.path.join(root, f) for f in files if f.endswith(image_type)])"
   ]
  },
  {
   "cell_type": "code",
   "execution_count": 4,
   "metadata": {
    "collapsed": false
   },
   "outputs": [],
   "source": [
    "imgs = feat.DimTransformer(w = 100, h = 100).transform(image_paths)"
   ]
  },
  {
   "cell_type": "code",
   "execution_count": 5,
   "metadata": {
    "collapsed": false
   },
   "outputs": [
    {
     "name": "stdout",
     "output_type": "stream",
     "text": [
      "(624, 180)\n",
      "(624, 256)\n",
      "(624, 256)\n"
     ]
    }
   ],
   "source": [
    "HueHist = feat.HSVHistTransformer(hist_type = \"hue\")\n",
    "SatHist = feat.HSVHistTransformer(hist_type = \"sat\")\n",
    "ValHist = feat.HSVHistTransformer(hist_type = \"val\")\n",
    "hue_hists = HueHist.transform(imgs)\n",
    "sat_hists = SatHist.transform(imgs)\n",
    "val_hists = ValHist.transform(imgs)\n",
    "print hue_hists.shape\n",
    "print sat_hists.shape\n",
    "print val_hists.shape"
   ]
  },
  {
   "cell_type": "code",
   "execution_count": 17,
   "metadata": {
    "collapsed": true
   },
   "outputs": [],
   "source": [
    "def compute_summary_stats(hue_hists, sat_hists, val_hists):\n",
    "    hue_modes = np.argmax(hue_hists, 1)\n",
    "    sat_modes = np.argmax(sat_hists, 1)\n",
    "    val_modes = np.argmax(val_hists, 1)\n",
    "    \n",
    "    hue_ent = entr(hue_hists).sum(axis=1)\n",
    "    sat_ent = entr(sat_hists).sum(axis=1)\n",
    "    val_ent = entr(val_hists).sum(axis=1)\n",
    "    \n",
    "    df = pd.DataFrame({'H.mode': hue_modes, 'S.mode': sat_modes, 'V.mode': val_modes,\n",
    "                      'H.entropy': hue_ent, 'S.entropy': sat_ent, 'V.entropy': val_ent})\n",
    "    return df"
   ]
  },
  {
   "cell_type": "code",
   "execution_count": 18,
   "metadata": {
    "collapsed": true
   },
   "outputs": [],
   "source": [
    "df_img_stats = compute_summary_stats(hue_hists, sat_hists, val_hists)\n",
    "df_img_stats.insert(0, 'img.path', image_paths)"
   ]
  },
  {
   "cell_type": "code",
   "execution_count": 19,
   "metadata": {
    "collapsed": false
   },
   "outputs": [
    {
     "data": {
      "text/html": [
       "<div>\n",
       "<table border=\"1\" class=\"dataframe\">\n",
       "  <thead>\n",
       "    <tr style=\"text-align: right;\">\n",
       "      <th></th>\n",
       "      <th>img.path</th>\n",
       "      <th>H.entropy</th>\n",
       "      <th>H.mode</th>\n",
       "      <th>S.entropy</th>\n",
       "      <th>S.mode</th>\n",
       "      <th>V.entropy</th>\n",
       "      <th>V.mode</th>\n",
       "    </tr>\n",
       "  </thead>\n",
       "  <tbody>\n",
       "    <tr>\n",
       "      <th>0</th>\n",
       "      <td>../clean_imgs/playboy_imgs/Playboy - 1953 - co...</td>\n",
       "      <td>4.893978</td>\n",
       "      <td>78</td>\n",
       "      <td>4.436550</td>\n",
       "      <td>252</td>\n",
       "      <td>4.300640</td>\n",
       "      <td>251</td>\n",
       "    </tr>\n",
       "    <tr>\n",
       "      <th>1</th>\n",
       "      <td>../clean_imgs/playboy_imgs/Playboy - 1954-01 -...</td>\n",
       "      <td>5.007125</td>\n",
       "      <td>129</td>\n",
       "      <td>5.242922</td>\n",
       "      <td>244</td>\n",
       "      <td>5.190052</td>\n",
       "      <td>249</td>\n",
       "    </tr>\n",
       "    <tr>\n",
       "      <th>2</th>\n",
       "      <td>../clean_imgs/playboy_imgs/Playboy - 1954-02 -...</td>\n",
       "      <td>4.153385</td>\n",
       "      <td>1</td>\n",
       "      <td>4.683984</td>\n",
       "      <td>1</td>\n",
       "      <td>4.625514</td>\n",
       "      <td>1</td>\n",
       "    </tr>\n",
       "    <tr>\n",
       "      <th>3</th>\n",
       "      <td>../clean_imgs/playboy_imgs/Playboy - 1954-03 -...</td>\n",
       "      <td>3.888695</td>\n",
       "      <td>31</td>\n",
       "      <td>4.117445</td>\n",
       "      <td>88</td>\n",
       "      <td>4.086222</td>\n",
       "      <td>184</td>\n",
       "    </tr>\n",
       "    <tr>\n",
       "      <th>4</th>\n",
       "      <td>../clean_imgs/playboy_imgs/Playboy - 1954-04 -...</td>\n",
       "      <td>5.027592</td>\n",
       "      <td>173</td>\n",
       "      <td>5.098360</td>\n",
       "      <td>234</td>\n",
       "      <td>5.071385</td>\n",
       "      <td>231</td>\n",
       "    </tr>\n",
       "  </tbody>\n",
       "</table>\n",
       "</div>"
      ],
      "text/plain": [
       "                                            img.path  H.entropy  H.mode  \\\n",
       "0  ../clean_imgs/playboy_imgs/Playboy - 1953 - co...   4.893978      78   \n",
       "1  ../clean_imgs/playboy_imgs/Playboy - 1954-01 -...   5.007125     129   \n",
       "2  ../clean_imgs/playboy_imgs/Playboy - 1954-02 -...   4.153385       1   \n",
       "3  ../clean_imgs/playboy_imgs/Playboy - 1954-03 -...   3.888695      31   \n",
       "4  ../clean_imgs/playboy_imgs/Playboy - 1954-04 -...   5.027592     173   \n",
       "\n",
       "   S.entropy  S.mode  V.entropy  V.mode  \n",
       "0   4.436550     252   4.300640     251  \n",
       "1   5.242922     244   5.190052     249  \n",
       "2   4.683984       1   4.625514       1  \n",
       "3   4.117445      88   4.086222     184  \n",
       "4   5.098360     234   5.071385     231  "
      ]
     },
     "execution_count": 19,
     "metadata": {},
     "output_type": "execute_result"
    }
   ],
   "source": [
    "df_img_stats.head()"
   ]
  },
  {
   "cell_type": "code",
   "execution_count": 20,
   "metadata": {
    "collapsed": true
   },
   "outputs": [],
   "source": [
    "df_img_stats.to_csv(\"../data/image_stats_playboy.csv\", index = False)"
   ]
  },
  {
   "cell_type": "code",
   "execution_count": null,
   "metadata": {
    "collapsed": true
   },
   "outputs": [],
   "source": []
  }
 ],
 "metadata": {
  "kernelspec": {
   "display_name": "Python 2",
   "language": "python",
   "name": "python2"
  },
  "language_info": {
   "codemirror_mode": {
    "name": "ipython",
    "version": 2
   },
   "file_extension": ".py",
   "mimetype": "text/x-python",
   "name": "python",
   "nbconvert_exporter": "python",
   "pygments_lexer": "ipython2",
   "version": "2.7.11"
  }
 },
 "nbformat": 4,
 "nbformat_minor": 0
}
